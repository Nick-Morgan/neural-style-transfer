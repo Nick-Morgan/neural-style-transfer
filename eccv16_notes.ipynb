{
 "cells": [
  {
   "cell_type": "markdown",
   "metadata": {},
   "source": [
    "feed-forward transformation network is trained on perceptual loss functions from the VGG19 network layers.\n",
    "\n",
    "todo - difference between feed-forward vs. forward/backward pass"
   ]
  },
  {
   "cell_type": "markdown",
   "metadata": {},
   "source": [
    "- For each input image `x`:\n",
    "    - `yc` is input image x\n",
    "    - `y-hat` should combine content of `x=yc` with style of `ys`\n",
    "    - `x` is low-resolution input, `yc` is true high-resolution image\n",
    "    - train one-network per super-resolution factor (?)\n",
    "\n",
    "Style transfer architecture [link](https://cs.stanford.edu/people/jcjohns/papers/eccv16/JohnsonECCV16Supplementary.pdf):\n",
    "![JohnsonECCV16Supplementary - Fig 1](img/eccv16-supplemental-fig-1.png)"
   ]
  },
  {
   "cell_type": "markdown",
   "metadata": {},
   "source": [
    "- Take input image, transform via:\n",
    "    - Downsample\n",
    "    - Residual blocks\n",
    "    - Upsample\n",
    "    - Compare input to output, minimize cost functions according to **VGG-16 network** activations\n",
    "- Depending on which activation they use to generate the image, content and spatial structure are preserved, but color, texture, and shape are not:\n",
    "![ECCV16 - Fig 3](img/eccv16.fig-3.png)"
   ]
  },
  {
   "cell_type": "markdown",
   "metadata": {},
   "source": [
    "This is more computationally efficient, because less pixels are being analyzed at the cost function. It also changes the receptive field sizes - through the downsampling/upsampling process, they are analyzing blocks of pixels, instead of single pixels. This allows them to capture more context of a style:"
   ]
  },
  {
   "cell_type": "markdown",
   "metadata": {},
   "source": [
    "![Source: https://cs.stanford.edu/people/jcjohns/eccv16/](img/eccv16.la-muse-comparison.png)"
   ]
  },
  {
   "cell_type": "markdown",
   "metadata": {},
   "source": [
    "Shapes are a prevalent feature of the style in the muse; there are many triangles scattered throughout the artwork. Gaty's captures the color and some of the stroke textures, but Johnson is much more effective at capturing the theme of triangles.\n",
    "\n",
    "I believe this is because Johnson's method has a larger receptive size, thus allowing it to capture larger portions of the image."
   ]
  },
  {
   "cell_type": "markdown",
   "metadata": {},
   "source": [
    " "
   ]
  },
  {
   "cell_type": "markdown",
   "metadata": {},
   "source": [
    " "
   ]
  },
  {
   "cell_type": "code",
   "execution_count": null,
   "metadata": {},
   "outputs": [],
   "source": []
  }
 ],
 "metadata": {
  "anaconda-cloud": {},
  "kernelspec": {
   "display_name": "Python [conda env:foo]",
   "language": "python",
   "name": "conda-env-foo-py"
  },
  "language_info": {
   "codemirror_mode": {
    "name": "ipython",
    "version": 3
   },
   "file_extension": ".py",
   "mimetype": "text/x-python",
   "name": "python",
   "nbconvert_exporter": "python",
   "pygments_lexer": "ipython3",
   "version": "3.6.5"
  }
 },
 "nbformat": 4,
 "nbformat_minor": 2
}
